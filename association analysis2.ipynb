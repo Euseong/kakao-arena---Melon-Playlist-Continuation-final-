{
 "cells": [
  {
   "cell_type": "code",
   "execution_count": 55,
   "metadata": {},
   "outputs": [],
   "source": [
    "import json\n",
    "import os\n",
    "import re\n",
    "import warnings\n",
    "import random\n",
    "\n",
    "import numpy as np\n",
    "import scipy as sp\n",
    "import pandas as pd\n",
    "\n",
    "from numba import jit\n",
    "from collections import Counter\n",
    "from sklearn.feature_extraction.text import TfidfVectorizer\n",
    "from sklearn.feature_extraction.text import CountVectorizer\n",
    "\n",
    "import matplotlib.pyplot as plt\n",
    "import matplotlib as mpl\n",
    "import matplotlib.pyplot as plt\n",
    "import matplotlib.font_manager as fm"
   ]
  },
  {
   "cell_type": "code",
   "execution_count": 2,
   "metadata": {},
   "outputs": [],
   "source": [
    "pd.options.mode.chained_assignment = None"
   ]
  },
  {
   "cell_type": "code",
   "execution_count": 56,
   "metadata": {},
   "outputs": [],
   "source": [
    "genre_gn_all = pd.read_json('genre_gn_all.json', typ='series', encoding='utf-8')\n",
    "# 장르코드 : gnr_code, 장르명 : gnr_name\n",
    "genre_gn_all = pd.DataFrame(genre_gn_all, columns = ['gnr_name']).reset_index().rename(columns = {'index' : 'gnr_code'})\n",
    "song_meta = pd.read_json('song_meta.json', typ = 'frame', encoding='utf-8')\n",
    "train = pd.read_json('train.json', typ = 'frame', encoding='utf-8')"
   ]
  },
  {
   "cell_type": "code",
   "execution_count": null,
   "metadata": {},
   "outputs": [],
   "source": [
    "song_meta.head()"
   ]
  },
  {
   "cell_type": "code",
   "execution_count": null,
   "metadata": {},
   "outputs": [],
   "source": [
    "train.head()"
   ]
  },
  {
   "cell_type": "markdown",
   "metadata": {},
   "source": [
    "## train data 내 playlist에서 song  일부(20%)를 제거하는 train set 생성"
   ]
  },
  {
   "cell_type": "code",
   "execution_count": null,
   "metadata": {},
   "outputs": [],
   "source": [
    "# @jit(nopython=True)\n",
    "def train_labelled(songs_list, tags_list, X_rate):\n",
    "    # result[:,0]=songs_X\n",
    "    # result[:,1]=songs_y\n",
    "    # result[:,2]=tags_X\n",
    "    # result[:,3]=tags_y\n",
    "    i = 0\n",
    "    songs_X, songs_y, tags_X, tags_y = [], [], [], []\n",
    "    for songs, tags in zip(songs_list, tags_list):        \n",
    "        if i > 9999 and i % 10000 == 0:\n",
    "            print(i, \"th completed\", sep=\"\")\n",
    "        n_songs = len(songs)\n",
    "        n_tags = len(tags)\n",
    "        \n",
    "        if n_songs + n_tags == 0:\n",
    "            continue\n",
    "        \n",
    "        n_songs_Xi = round(X_rate*n_songs)\n",
    "        n_tags_Xi = round(X_rate*n_tags)\n",
    "        songs_index = random.shuffle(list(range(n_songs)))\n",
    "        tags_index = random.shuffle(list(range(n_tags)))\n",
    "        songs_Xi = songs[:n_songs_Xi]\n",
    "        songs_yi = songs[n_songs_Xi:]\n",
    "        tags_Xi = tags[:n_tags_Xi]\n",
    "        tags_yi = tags[n_tags_Xi:]\n",
    "        \n",
    "        if not len(songs_X):\n",
    "            songs_X, songs_y, tags_X, tags_y = [songs_Xi], [songs_yi], [tags_Xi], [tags_yi]\n",
    "        else:\n",
    "            songs_X += [songs_Xi]\n",
    "            songs_y += [songs_yi]\n",
    "            tags_X += [tags_Xi]\n",
    "            tags_y += [tags_yi]\n",
    "        \n",
    "        i += 1\n",
    "    return songs_X, songs_y, tags_X, tags_y"
   ]
  },
  {
   "cell_type": "code",
   "execution_count": null,
   "metadata": {},
   "outputs": [],
   "source": [
    "random.seed(1000)\n",
    "new_train = train_labelled(list(train.songs), list(train.tags), 0.8)"
   ]
  },
  {
   "cell_type": "code",
   "execution_count": null,
   "metadata": {},
   "outputs": [],
   "source": [
    "print(new_train[3])"
   ]
  },
  {
   "cell_type": "code",
   "execution_count": null,
   "metadata": {},
   "outputs": [],
   "source": [
    "train[\"songs_X\"] = pd.Series(new_train[0])\n",
    "train[\"songs_y\"] = pd.Series(new_train[1])\n",
    "train[\"tags_X\"] = pd.Series(new_train[2])\n",
    "train[\"tags_y\"] = pd.Series(new_train[3])"
   ]
  },
  {
   "cell_type": "code",
   "execution_count": null,
   "metadata": {},
   "outputs": [],
   "source": [
    "train.head()"
   ]
  },
  {
   "cell_type": "code",
   "execution_count": null,
   "metadata": {},
   "outputs": [],
   "source": [
    "train.to_json(\"train_labelled.json\", orient='records', force_ascii=False)"
   ]
  },
  {
   "cell_type": "markdown",
   "metadata": {},
   "source": [
    "## 노래들 간 co-occurrence를 이용하여 누락된 노래 100개 예측"
   ]
  },
  {
   "cell_type": "code",
   "execution_count": 61,
   "metadata": {},
   "outputs": [
    {
     "data": {
      "text/html": [
       "<div>\n",
       "<style scoped>\n",
       "    .dataframe tbody tr th:only-of-type {\n",
       "        vertical-align: middle;\n",
       "    }\n",
       "\n",
       "    .dataframe tbody tr th {\n",
       "        vertical-align: top;\n",
       "    }\n",
       "\n",
       "    .dataframe thead th {\n",
       "        text-align: right;\n",
       "    }\n",
       "</style>\n",
       "<table border=\"1\" class=\"dataframe\">\n",
       "  <thead>\n",
       "    <tr style=\"text-align: right;\">\n",
       "      <th></th>\n",
       "      <th>tags</th>\n",
       "      <th>id</th>\n",
       "      <th>plylst_title</th>\n",
       "      <th>songs</th>\n",
       "      <th>like_cnt</th>\n",
       "      <th>updt_date</th>\n",
       "    </tr>\n",
       "  </thead>\n",
       "  <tbody>\n",
       "    <tr>\n",
       "      <th>115066</th>\n",
       "      <td>[록메탈, 밴드사운드, 록, 락메탈, 메탈, 락, extreme]</td>\n",
       "      <td>120325</td>\n",
       "      <td>METAL E'SM #2</td>\n",
       "      <td>[429629, 441511, 612106, 516359, 691768, 38714...</td>\n",
       "      <td>3</td>\n",
       "      <td>2020-04-17 04:31:11.000</td>\n",
       "    </tr>\n",
       "    <tr>\n",
       "      <th>115067</th>\n",
       "      <td>[일렉]</td>\n",
       "      <td>106976</td>\n",
       "      <td>빠른 리스너를 위한 따끈따끈한 최신 인기 EDM 모음!</td>\n",
       "      <td>[321330, 216057, 534472, 240306, 331098, 23288...</td>\n",
       "      <td>13</td>\n",
       "      <td>2015-12-24 17:23:19.000</td>\n",
       "    </tr>\n",
       "    <tr>\n",
       "      <th>115068</th>\n",
       "      <td>[담시, 가족, 눈물, 그리움, 주인공, 나의_이야기, 사랑, 친구]</td>\n",
       "      <td>11343</td>\n",
       "      <td>#1. 눈물이 앞을 가리는 나의_이야기</td>\n",
       "      <td>[50512, 249024, 250608, 371171, 229942, 694943...</td>\n",
       "      <td>4</td>\n",
       "      <td>2019-08-16 20:59:22.000</td>\n",
       "    </tr>\n",
       "    <tr>\n",
       "      <th>115069</th>\n",
       "      <td>[잔잔한, 버스, 퇴근버스, Pop, 풍경, 퇴근길]</td>\n",
       "      <td>131982</td>\n",
       "      <td>퇴근 버스에서 편히 들으면서 하루를 마무리하기에 좋은 POP</td>\n",
       "      <td>[533534, 608114, 343608, 417140, 609009, 30217...</td>\n",
       "      <td>4</td>\n",
       "      <td>2019-10-25 23:40:42.000</td>\n",
       "    </tr>\n",
       "    <tr>\n",
       "      <th>115070</th>\n",
       "      <td>[노래추천, 팝송추천, 팝송, 팝송모음]</td>\n",
       "      <td>100389</td>\n",
       "      <td>FAVORITE POPSONG!!!</td>\n",
       "      <td>[26008, 456354, 324105, 89871, 135272, 143548,...</td>\n",
       "      <td>17</td>\n",
       "      <td>2020-04-18 20:35:06.000</td>\n",
       "    </tr>\n",
       "  </tbody>\n",
       "</table>\n",
       "</div>"
      ],
      "text/plain": [
       "                                          tags      id  \\\n",
       "115066    [록메탈, 밴드사운드, 록, 락메탈, 메탈, 락, extreme]  120325   \n",
       "115067                                    [일렉]  106976   \n",
       "115068  [담시, 가족, 눈물, 그리움, 주인공, 나의_이야기, 사랑, 친구]   11343   \n",
       "115069           [잔잔한, 버스, 퇴근버스, Pop, 풍경, 퇴근길]  131982   \n",
       "115070                  [노래추천, 팝송추천, 팝송, 팝송모음]  100389   \n",
       "\n",
       "                             plylst_title  \\\n",
       "115066                      METAL E'SM #2   \n",
       "115067     빠른 리스너를 위한 따끈따끈한 최신 인기 EDM 모음!   \n",
       "115068              #1. 눈물이 앞을 가리는 나의_이야기   \n",
       "115069  퇴근 버스에서 편히 들으면서 하루를 마무리하기에 좋은 POP   \n",
       "115070                FAVORITE POPSONG!!!   \n",
       "\n",
       "                                                    songs  like_cnt  \\\n",
       "115066  [429629, 441511, 612106, 516359, 691768, 38714...         3   \n",
       "115067  [321330, 216057, 534472, 240306, 331098, 23288...        13   \n",
       "115068  [50512, 249024, 250608, 371171, 229942, 694943...         4   \n",
       "115069  [533534, 608114, 343608, 417140, 609009, 30217...         4   \n",
       "115070  [26008, 456354, 324105, 89871, 135272, 143548,...        17   \n",
       "\n",
       "                      updt_date  \n",
       "115066  2020-04-17 04:31:11.000  \n",
       "115067  2015-12-24 17:23:19.000  \n",
       "115068  2019-08-16 20:59:22.000  \n",
       "115069  2019-10-25 23:40:42.000  \n",
       "115070  2020-04-18 20:35:06.000  "
      ]
     },
     "execution_count": 61,
     "metadata": {},
     "output_type": "execute_result"
    }
   ],
   "source": [
    "train.tail()"
   ]
  },
  {
   "cell_type": "code",
   "execution_count": 65,
   "metadata": {},
   "outputs": [
    {
     "data": {
      "text/html": [
       "<div>\n",
       "<style scoped>\n",
       "    .dataframe tbody tr th:only-of-type {\n",
       "        vertical-align: middle;\n",
       "    }\n",
       "\n",
       "    .dataframe tbody tr th {\n",
       "        vertical-align: top;\n",
       "    }\n",
       "\n",
       "    .dataframe thead th {\n",
       "        text-align: right;\n",
       "    }\n",
       "</style>\n",
       "<table border=\"1\" class=\"dataframe\">\n",
       "  <thead>\n",
       "    <tr style=\"text-align: right;\">\n",
       "      <th></th>\n",
       "      <th>tags</th>\n",
       "      <th>id</th>\n",
       "      <th>plylst_title</th>\n",
       "      <th>songs</th>\n",
       "      <th>like_cnt</th>\n",
       "      <th>updt_date</th>\n",
       "    </tr>\n",
       "  </thead>\n",
       "  <tbody>\n",
       "    <tr>\n",
       "      <th>115070</th>\n",
       "      <td>[노래추천, 팝송추천, 팝송, 팝송모음]</td>\n",
       "      <td>100389</td>\n",
       "      <td>FAVORITE POPSONG!!!</td>\n",
       "      <td>[26008, 456354, 324105, 89871, 135272, 143548,...</td>\n",
       "      <td>17</td>\n",
       "      <td>2020-04-18 20:35:06.000</td>\n",
       "    </tr>\n",
       "    <tr>\n",
       "      <th>0</th>\n",
       "      <td>[]</td>\n",
       "      <td>118598</td>\n",
       "      <td></td>\n",
       "      <td>[373313, 151080, 275346, 696876, 165237, 52593...</td>\n",
       "      <td>1675</td>\n",
       "      <td>2019-05-27 14:14:33.000</td>\n",
       "    </tr>\n",
       "    <tr>\n",
       "      <th>1</th>\n",
       "      <td>[]</td>\n",
       "      <td>131447</td>\n",
       "      <td>앨리스테이블</td>\n",
       "      <td>[]</td>\n",
       "      <td>1</td>\n",
       "      <td>2014-07-16 15:24:24.000</td>\n",
       "    </tr>\n",
       "    <tr>\n",
       "      <th>2</th>\n",
       "      <td>[]</td>\n",
       "      <td>51464</td>\n",
       "      <td></td>\n",
       "      <td>[529437, 516103, 360067, 705713, 226062, 37089...</td>\n",
       "      <td>62</td>\n",
       "      <td>2008-06-21 23:26:22.000</td>\n",
       "    </tr>\n",
       "    <tr>\n",
       "      <th>3</th>\n",
       "      <td>[]</td>\n",
       "      <td>45144</td>\n",
       "      <td></td>\n",
       "      <td>[589668, 21711, 570151, 320043, 13930, 599327,...</td>\n",
       "      <td>20</td>\n",
       "      <td>2017-10-30 18:15:43.000</td>\n",
       "    </tr>\n",
       "  </tbody>\n",
       "</table>\n",
       "</div>"
      ],
      "text/plain": [
       "                          tags      id         plylst_title  \\\n",
       "115070  [노래추천, 팝송추천, 팝송, 팝송모음]  100389  FAVORITE POPSONG!!!   \n",
       "0                           []  118598                        \n",
       "1                           []  131447               앨리스테이블   \n",
       "2                           []   51464                        \n",
       "3                           []   45144                        \n",
       "\n",
       "                                                    songs  like_cnt  \\\n",
       "115070  [26008, 456354, 324105, 89871, 135272, 143548,...        17   \n",
       "0       [373313, 151080, 275346, 696876, 165237, 52593...      1675   \n",
       "1                                                      []         1   \n",
       "2       [529437, 516103, 360067, 705713, 226062, 37089...        62   \n",
       "3       [589668, 21711, 570151, 320043, 13930, 599327,...        20   \n",
       "\n",
       "                      updt_date  \n",
       "115070  2020-04-18 20:35:06.000  \n",
       "0       2019-05-27 14:14:33.000  \n",
       "1       2014-07-16 15:24:24.000  \n",
       "2       2008-06-21 23:26:22.000  \n",
       "3       2017-10-30 18:15:43.000  "
      ]
     },
     "execution_count": 65,
     "metadata": {},
     "output_type": "execute_result"
    }
   ],
   "source": [
    "pd.concat([train, val.iloc[:4,:]]).tail()"
   ]
  },
  {
   "cell_type": "code",
   "execution_count": 66,
   "metadata": {},
   "outputs": [],
   "source": [
    "val = pd.read_json('val.json', typ = 'frame', encoding='utf-8')\n",
    "test = pd.read_json('test.json', typ = 'frame', encoding='utf-8')"
   ]
  },
  {
   "cell_type": "code",
   "execution_count": 67,
   "metadata": {},
   "outputs": [],
   "source": [
    "train = pd.concat([train, val, test])"
   ]
  },
  {
   "cell_type": "code",
   "execution_count": 57,
   "metadata": {},
   "outputs": [],
   "source": [
    "# co-occurrence matrix for songs\n",
    "num_songs = song_meta.shape[0]\n",
    "def cooccur(song_lists):\n",
    "    import scipy as sp\n",
    "    i = 0\n",
    "    result = sp.sparse.dok_matrix((num_songs,num_songs), dtype='int32')\n",
    "    for songs in song_lists:\n",
    "        if i > 9999 and i % 10000 == 0:\n",
    "            print(i, \"th completed\", sep=\"\")\n",
    "        i = 0\n",
    "        for song in songs:\n",
    "            for co_occured_song in songs[(i+1):]:\n",
    "                result[song, co_occured_song] += 1\n",
    "                result[co_occured_song, song] += 1\n",
    "            i += 1\n",
    "    return result"
   ]
  },
  {
   "cell_type": "code",
   "execution_count": 76,
   "metadata": {},
   "outputs": [],
   "source": [
    "# train.songs 이용 2~3시간 걸림\n",
    "song_co_occurrence = cooccur(train.songs)\n",
    "sp.sparse.save_npz(\"all_song_co_occurrence.npz\", song_co_occurrence.tocoo())"
   ]
  },
  {
   "cell_type": "code",
   "execution_count": null,
   "metadata": {},
   "outputs": [],
   "source": [
    "song_co_occurrence_csr = song_co_occurrence.tocsr()\n",
    "del song_co_occurrence"
   ]
  },
  {
   "cell_type": "code",
   "execution_count": null,
   "metadata": {},
   "outputs": [],
   "source": [
    "# song_co_occurrence_coo = song_co_occurrence.tocoo()\n",
    "# sp.sparse.save_npz(\"train_song_co_occurrence.npz\", song_co_occurrence_coo)"
   ]
  },
  {
   "cell_type": "code",
   "execution_count": null,
   "metadata": {},
   "outputs": [],
   "source": [
    "# train.songs_X 이용 \n",
    "song_co_occurrence_reduced = cooccur(train.songs_X)"
   ]
  },
  {
   "cell_type": "code",
   "execution_count": null,
   "metadata": {},
   "outputs": [],
   "source": [
    "song_co_occurrence_reduced_coo = song_co_occurrence_reduced.tocoo()\n",
    "sp.sparse.save_npz(\"train_song_co_occurrence_reduced.npz\", song_co_occurrence_reduced_coo)"
   ]
  },
  {
   "cell_type": "code",
   "execution_count": 6,
   "metadata": {},
   "outputs": [],
   "source": [
    "song_co_occurrence_csr = sp.sparse.load_npz(\"train_song_co_occurrence.npz\").tocsr()"
   ]
  },
  {
   "cell_type": "markdown",
   "metadata": {},
   "source": [
    "- 특정 song이 포함될 conditional probability를 계산하기 위한 song 별 총 등장횟수 계산"
   ]
  },
  {
   "cell_type": "code",
   "execution_count": 77,
   "metadata": {},
   "outputs": [],
   "source": [
    "train_song_count = {song:0 for song in range(len(song_meta))}"
   ]
  },
  {
   "cell_type": "code",
   "execution_count": 78,
   "metadata": {
    "scrolled": true
   },
   "outputs": [],
   "source": [
    "for songs in train.songs:\n",
    "    for song in songs:\n",
    "        train_song_count[song] += 1"
   ]
  },
  {
   "cell_type": "code",
   "execution_count": 79,
   "metadata": {},
   "outputs": [],
   "source": [
    "train_song_count = np.array([train_song_count[i] for i in range(len(song_meta))])"
   ]
  },
  {
   "cell_type": "code",
   "execution_count": 71,
   "metadata": {},
   "outputs": [
    {
     "name": "stdout",
     "output_type": "stream",
     "text": [
      "[ 2  0  0 ... 14  1  1]\n"
     ]
    }
   ],
   "source": [
    "print(train_song_count)"
   ]
  },
  {
   "cell_type": "markdown",
   "metadata": {},
   "source": [
    "## 노래들과 태그의 co-occurrence를 이용하여 태그 10개 예측"
   ]
  },
  {
   "cell_type": "code",
   "execution_count": 80,
   "metadata": {},
   "outputs": [],
   "source": [
    "# 태그 unique 값 추출\n",
    "tags_dict = {tag:i for i, tag in enumerate(train.tags.explode().unique())}\n",
    "index_tags = {index:tag for tag, index in tags_dict.items()}"
   ]
  },
  {
   "cell_type": "code",
   "execution_count": 81,
   "metadata": {},
   "outputs": [],
   "source": [
    "# co-occurrence matrix for tags with respect to songs\n",
    "def cooccur_tag(song_lists, tag_lists, n_songs, n_tags):\n",
    "    import scipy as sp\n",
    "    result = sp.sparse.dok_matrix((n_songs, n_tags), dtype='int16')\n",
    "    i = 0\n",
    "    for songs, tags in zip(song_lists, tag_lists):\n",
    "        if i > 9999 and not i % 10000:\n",
    "            print(i, \"th list completed\", sep=\"\")\n",
    "        songs_in_list = len(songs)\n",
    "        for song in songs:\n",
    "            for tag in tags:\n",
    "                result[song, tags_dict[tag]] += 1\n",
    "        i += 1\n",
    "    return result"
   ]
  },
  {
   "cell_type": "code",
   "execution_count": 74,
   "metadata": {},
   "outputs": [
    {
     "data": {
      "text/html": [
       "<div>\n",
       "<style scoped>\n",
       "    .dataframe tbody tr th:only-of-type {\n",
       "        vertical-align: middle;\n",
       "    }\n",
       "\n",
       "    .dataframe tbody tr th {\n",
       "        vertical-align: top;\n",
       "    }\n",
       "\n",
       "    .dataframe thead th {\n",
       "        text-align: right;\n",
       "    }\n",
       "</style>\n",
       "<table border=\"1\" class=\"dataframe\">\n",
       "  <thead>\n",
       "    <tr style=\"text-align: right;\">\n",
       "      <th></th>\n",
       "      <th>tags</th>\n",
       "      <th>id</th>\n",
       "      <th>plylst_title</th>\n",
       "      <th>songs</th>\n",
       "      <th>like_cnt</th>\n",
       "      <th>updt_date</th>\n",
       "    </tr>\n",
       "  </thead>\n",
       "  <tbody>\n",
       "    <tr>\n",
       "      <th>0</th>\n",
       "      <td>[락]</td>\n",
       "      <td>61281</td>\n",
       "      <td>여행같은 음악</td>\n",
       "      <td>[525514, 129701, 383374, 562083, 297861, 13954...</td>\n",
       "      <td>71</td>\n",
       "      <td>2013-12-19 18:36:19.000</td>\n",
       "    </tr>\n",
       "    <tr>\n",
       "      <th>1</th>\n",
       "      <td>[추억, 회상]</td>\n",
       "      <td>10532</td>\n",
       "      <td>요즘 너 말야</td>\n",
       "      <td>[432406, 675945, 497066, 120377, 389529, 24427...</td>\n",
       "      <td>1</td>\n",
       "      <td>2014-12-02 16:19:42.000</td>\n",
       "    </tr>\n",
       "    <tr>\n",
       "      <th>2</th>\n",
       "      <td>[까페, 잔잔한]</td>\n",
       "      <td>76951</td>\n",
       "      <td>편하게, 잔잔하게 들을 수 있는 곡.-</td>\n",
       "      <td>[83116, 276692, 166267, 186301, 354465, 256598...</td>\n",
       "      <td>17</td>\n",
       "      <td>2017-08-28 07:09:34.000</td>\n",
       "    </tr>\n",
       "    <tr>\n",
       "      <th>3</th>\n",
       "      <td>[연말, 눈오는날, 캐럴, 분위기, 따듯한, 크리스마스캐럴, 겨울노래, 크리스마스,...</td>\n",
       "      <td>147456</td>\n",
       "      <td>크리스마스 분위기에 흠뻑 취하고 싶을때</td>\n",
       "      <td>[394031, 195524, 540149, 287984, 440773, 10033...</td>\n",
       "      <td>33</td>\n",
       "      <td>2019-12-05 15:15:18.000</td>\n",
       "    </tr>\n",
       "    <tr>\n",
       "      <th>4</th>\n",
       "      <td>[댄스]</td>\n",
       "      <td>27616</td>\n",
       "      <td>추억의 노래 ㅋ</td>\n",
       "      <td>[159327, 553610, 5130, 645103, 294435, 100657,...</td>\n",
       "      <td>9</td>\n",
       "      <td>2011-10-25 13:54:56.000</td>\n",
       "    </tr>\n",
       "  </tbody>\n",
       "</table>\n",
       "</div>"
      ],
      "text/plain": [
       "                                                tags      id  \\\n",
       "0                                                [락]   61281   \n",
       "1                                           [추억, 회상]   10532   \n",
       "2                                          [까페, 잔잔한]   76951   \n",
       "3  [연말, 눈오는날, 캐럴, 분위기, 따듯한, 크리스마스캐럴, 겨울노래, 크리스마스,...  147456   \n",
       "4                                               [댄스]   27616   \n",
       "\n",
       "            plylst_title                                              songs  \\\n",
       "0                여행같은 음악  [525514, 129701, 383374, 562083, 297861, 13954...   \n",
       "1                요즘 너 말야  [432406, 675945, 497066, 120377, 389529, 24427...   \n",
       "2  편하게, 잔잔하게 들을 수 있는 곡.-  [83116, 276692, 166267, 186301, 354465, 256598...   \n",
       "3  크리스마스 분위기에 흠뻑 취하고 싶을때  [394031, 195524, 540149, 287984, 440773, 10033...   \n",
       "4               추억의 노래 ㅋ  [159327, 553610, 5130, 645103, 294435, 100657,...   \n",
       "\n",
       "   like_cnt                updt_date  \n",
       "0        71  2013-12-19 18:36:19.000  \n",
       "1         1  2014-12-02 16:19:42.000  \n",
       "2        17  2017-08-28 07:09:34.000  \n",
       "3        33  2019-12-05 15:15:18.000  \n",
       "4         9  2011-10-25 13:54:56.000  "
      ]
     },
     "execution_count": 74,
     "metadata": {},
     "output_type": "execute_result"
    }
   ],
   "source": [
    "train.head()"
   ]
  },
  {
   "cell_type": "code",
   "execution_count": 82,
   "metadata": {},
   "outputs": [
    {
     "name": "stdout",
     "output_type": "stream",
     "text": [
      "10000th list completed\n",
      "20000th list completed\n",
      "30000th list completed\n",
      "40000th list completed\n",
      "50000th list completed\n",
      "60000th list completed\n",
      "70000th list completed\n",
      "80000th list completed\n",
      "90000th list completed\n",
      "100000th list completed\n",
      "110000th list completed\n",
      "120000th list completed\n",
      "130000th list completed\n",
      "140000th list completed\n"
     ]
    }
   ],
   "source": [
    "tag_co_occurrence = cooccur_tag(train.songs, train.tags, n_songs=num_songs, n_tags=len(tags_dict))\n",
    "tag_co_occurrence = tag_co_occurrence.tocoo()\n",
    "sp.sparse.save_npz('all_tag_co_occurrence_coo.npz', tag_co_occurrence)"
   ]
  },
  {
   "cell_type": "code",
   "execution_count": null,
   "metadata": {
    "scrolled": false
   },
   "outputs": [],
   "source": [
    "tag_co_occurrence = cooccur_tag(train.songs, train.tags, n_songs=num_songs, n_tags=len(tags_dict))\n",
    "tag_co_occurrence = tag_co_occurrence.tocoo()\n",
    "# sp.sparse.save_npz('train_tag_co_occurrence_coo.npz', tag_co_occurrence)"
   ]
  },
  {
   "cell_type": "code",
   "execution_count": 83,
   "metadata": {},
   "outputs": [],
   "source": [
    "tag_co_occurrence_csr = tag_co_occurrence.tocsr()\n",
    "del tag_co_occurrence"
   ]
  },
  {
   "cell_type": "markdown",
   "metadata": {},
   "source": [
    "- 특정 tag가 포함될 conditional probability를 계산하기 위한 tag 별 총 등장횟수 계산"
   ]
  },
  {
   "cell_type": "code",
   "execution_count": 84,
   "metadata": {},
   "outputs": [],
   "source": [
    "train_tag_index_count = {index:0 for index in range(len(tags_dict))}\n",
    "train_tag_index_count = np.array([train_tag_index_count[i] for i in range(len(tags_dict))])"
   ]
  },
  {
   "cell_type": "code",
   "execution_count": 85,
   "metadata": {
    "scrolled": true
   },
   "outputs": [],
   "source": [
    "for tags in train.tags:\n",
    "    for tag in tags:\n",
    "        train_tag_index_count[tags_dict[tag]] += 1"
   ]
  },
  {
   "cell_type": "code",
   "execution_count": 14,
   "metadata": {},
   "outputs": [
    {
     "data": {
      "text/plain": [
       "array([4007, 6520, 4579, ...,    1,    1,    1])"
      ]
     },
     "execution_count": 14,
     "metadata": {},
     "output_type": "execute_result"
    }
   ],
   "source": [
    "train_tag_index_count"
   ]
  },
  {
   "cell_type": "markdown",
   "metadata": {},
   "source": [
    "## association analysis - song 별로 support, confidence, lift 계산"
   ]
  },
  {
   "cell_type": "markdown",
   "metadata": {},
   "source": [
    "- song association"
   ]
  },
  {
   "cell_type": "code",
   "execution_count": 86,
   "metadata": {},
   "outputs": [],
   "source": [
    "nonzero_index = song_co_occurrence_csr.nonzero()"
   ]
  },
  {
   "cell_type": "code",
   "execution_count": null,
   "metadata": {},
   "outputs": [],
   "source": [
    "print(nonzero_index[0].shape, nonzero_index[1].shape)"
   ]
  },
  {
   "cell_type": "code",
   "execution_count": 87,
   "metadata": {},
   "outputs": [],
   "source": [
    "n_train = train.shape[0]"
   ]
  },
  {
   "cell_type": "code",
   "execution_count": 88,
   "metadata": {},
   "outputs": [
    {
     "name": "stdout",
     "output_type": "stream",
     "text": [
      "0.01011 <class 'numpy.float16'>\n"
     ]
    }
   ],
   "source": [
    "train_support = song_co_occurrence_csr / n_train\n",
    "train_support = train_support.astype('float16')\n",
    "print(train_support.max(), type(train_support.max()))"
   ]
  },
  {
   "cell_type": "code",
   "execution_count": 95,
   "metadata": {},
   "outputs": [],
   "source": [
    "train_confidence = sp.sparse.dok_matrix((num_songs, num_songs), dtype=\"float16\")\n",
    "train_lift = sp.sparse.dok_matrix((num_songs, num_songs), dtype=\"float16\")"
   ]
  },
  {
   "cell_type": "code",
   "execution_count": null,
   "metadata": {},
   "outputs": [],
   "source": [
    "train_confidence[nonzero_index[0], nonzero_index[1]] = \\\n",
    "song_co_occurrence_csr[nonzero_index[0], nonzero_index[1]] / train_song_count[nonzero_index[0]]\n",
    "del song_co_occurrence_csr\n",
    "train_confidence = train_confidence.tocoo()\n",
    "sp.sparse.save_npz(\"all_confidence_coo.npz\", train_confidence)\n",
    "train_confidence_csr = train_confidence.tocsr()\n",
    "del train_confidence"
   ]
  },
  {
   "cell_type": "code",
   "execution_count": 19,
   "metadata": {},
   "outputs": [],
   "source": [
    "# train_confidence_csr = sp.sparse.load_npz(\"train_confidence_coo.npz\").tocsr()"
   ]
  },
  {
   "cell_type": "code",
   "execution_count": 20,
   "metadata": {},
   "outputs": [
    {
     "data": {
      "text/plain": [
       "DescribeResult(nobs=278497102, minmax=(0.00045967102, 1.0), mean=0.17817852, variance=0.08319576, skewness=2.0607762336730957, kurtosis=3.0394186023966414)"
      ]
     },
     "execution_count": 20,
     "metadata": {},
     "output_type": "execute_result"
    }
   ],
   "source": [
    "sp.stats.describe(np.array(train_confidence_csr[nonzero_index[0], nonzero_index[1]])[0])"
   ]
  },
  {
   "cell_type": "code",
   "execution_count": null,
   "metadata": {},
   "outputs": [],
   "source": [
    "train_lift[nonzero_index[0], nonzero_index[1]] = \\\n",
    "n_train*(train_confidence_csr[nonzero_index[0], nonzero_index[1]]) / train_song_count[nonzero_index[1]]\n",
    "train_lift = train_lift.tocoo()\n",
    "sp.sparse.save_npz(\"all_lift_coo.npz\", train_lift)\n",
    "train_lift_csr = train_lift_coo.tocsr()\n",
    "del train_lift"
   ]
  },
  {
   "cell_type": "code",
   "execution_count": 33,
   "metadata": {},
   "outputs": [
    {
     "name": "stderr",
     "output_type": "stream",
     "text": [
      "C:\\Users\\yaeji\\anaconda3\\lib\\site-packages\\numpy\\core\\_methods.py:193: RuntimeWarning: invalid value encountered in subtract\n",
      "  x = asanyarray(arr - arrmean)\n",
      "C:\\Users\\yaeji\\anaconda3\\lib\\site-packages\\scipy\\stats\\stats.py:1082: RuntimeWarning: invalid value encountered in subtract\n",
      "  a_zero_mean = a - np.expand_dims(np.mean(a, axis), axis)\n"
     ]
    },
    {
     "data": {
      "text/plain": [
       "DescribeResult(nobs=278497102, minmax=(0.04751587, inf), mean=inf, variance=nan, skewness=nan, kurtosis=nan)"
      ]
     },
     "execution_count": 33,
     "metadata": {},
     "output_type": "execute_result"
    }
   ],
   "source": [
    "# train_lift_csr = sp.sparse.load_npz(\"train_lift_coo.npz\").tocsr()\n",
    "sp.stats.describe(np.array(train_lift_csr[nonzero_index[0], nonzero_index[1]])[0])"
   ]
  },
  {
   "cell_type": "markdown",
   "metadata": {},
   "source": [
    "- tag association"
   ]
  },
  {
   "cell_type": "code",
   "execution_count": null,
   "metadata": {},
   "outputs": [],
   "source": [
    "tag_nonzero_index = tag_co_occurrence_csr.nonzero()"
   ]
  },
  {
   "cell_type": "code",
   "execution_count": null,
   "metadata": {},
   "outputs": [],
   "source": [
    "tag_train_support = tag_co_occurrence_csr / n_train\n",
    "tag_train_support = tag_train_support.astype('float16')\n",
    "print(tag_train_support.max(), type(tag_train_support.max()))"
   ]
  },
  {
   "cell_type": "code",
   "execution_count": null,
   "metadata": {},
   "outputs": [],
   "source": [
    "tag_train_confidence = sp.sparse.dok_matrix((num_songs, tag_co_occurrence_csr.shape[1]), dtype=\"float16\")\n",
    "tag_train_lift = sp.sparse.dok_matrix((num_songs, tag_co_occurrence_csr.shape[1]), dtype=\"float16\")"
   ]
  },
  {
   "cell_type": "code",
   "execution_count": null,
   "metadata": {},
   "outputs": [],
   "source": [
    "tag_train_confidence[tag_nonzero_index[0], tag_nonzero_index[1]] = \\\n",
    "tag_co_occurrence_csr[tag_nonzero_index[0], tag_nonzero_index[1]] / train_song_count[tag_nonzero_index[0]]\n",
    "del tag_co_occurrence_csr\n",
    "tag_train_confidence = tag_train_confidence.tocoo()\n",
    "tag_train_confidence_csr = tag_train_confidence.tocsr()\n",
    "del tag_train_confidence\n",
    "inf_index = np.isinf(tag_train_confidence_csr[tag_nonzero_index[0], tag_nonzero_index[1]])\n",
    "tag_train_confidence_csr[tag_nonzero_index[0], tag_nonzero_index[1]][inf_index] = \n",
    "sp.sparse.save_npz(\"all_tag_confidence_coo.npz\", tag_train_confidence)"
   ]
  },
  {
   "cell_type": "code",
   "execution_count": 42,
   "metadata": {},
   "outputs": [
    {
     "data": {
      "text/plain": [
       "DescribeResult(nobs=10984669, minmax=(0.00045967102, 1.0), mean=0.23281047, variance=0.102775514, skewness=1.5750420093536377, kurtosis=1.1285851758876895)"
      ]
     },
     "execution_count": 42,
     "metadata": {},
     "output_type": "execute_result"
    }
   ],
   "source": [
    "# tag_train_confidence_csr = sp.sparse.load_npz(\"tag_train_confidence_coo.npz\").tocsr()\n",
    "sp.stats.describe(np.array(tag_train_confidence_csr[tag_nonzero_index[0], tag_nonzero_index[1]])[0])"
   ]
  },
  {
   "cell_type": "code",
   "execution_count": null,
   "metadata": {},
   "outputs": [],
   "source": [
    "tag_train_lift[tag_nonzero_index[0], tag_nonzero_index[1]] = \\\n",
    "n_train*(tag_train_confidence_csr[tag_nonzero_index[0], tag_nonzero_index[1]]) / train_tag_index_count[tag_nonzero_index[1]]\n",
    "tag_train_lift = tag_train_lift.tocoo()\n",
    "sp.sparse.save_npz(\"all_tag_lift_coo.npz\", tag_train_lift)\n",
    "tag_train_lift_csr = tag_train_lift.tocsr()\n",
    "del tag_train_lift"
   ]
  },
  {
   "cell_type": "code",
   "execution_count": 54,
   "metadata": {},
   "outputs": [
    {
     "name": "stderr",
     "output_type": "stream",
     "text": [
      "C:\\Users\\yaeji\\anaconda3\\lib\\site-packages\\numpy\\core\\_methods.py:193: RuntimeWarning: invalid value encountered in subtract\n",
      "  x = asanyarray(arr - arrmean)\n",
      "C:\\Users\\yaeji\\anaconda3\\lib\\site-packages\\scipy\\stats\\stats.py:1082: RuntimeWarning: invalid value encountered in subtract\n",
      "  a_zero_mean = a - np.expand_dims(np.mean(a, axis), axis)\n"
     ]
    },
    {
     "data": {
      "text/plain": [
       "DescribeResult(nobs=10984669, minmax=(0.01159668, inf), mean=inf, variance=nan, skewness=nan, kurtosis=nan)"
      ]
     },
     "execution_count": 54,
     "metadata": {},
     "output_type": "execute_result"
    }
   ],
   "source": [
    "# tag_train_lift_csr = sp.sparse.load_npz(\"tag_train_lift_coo.npz\").tocsr()\n",
    "sp.stats.describe(np.array(tag_train_lift_csr[tag_nonzero_index[0], tag_nonzero_index[1]])[0])"
   ]
  },
  {
   "cell_type": "markdown",
   "metadata": {},
   "source": [
    "# validation 데이터 예측\n",
    "- train, val, test 데이터로 계산한 song/tag의 support, confidence, lift와 reduced train 데이터를 이용하여 logistic 모델의 설명변수 구축\n",
    "- 구축된 support, confidence, lift 데이터로 fit logistic regression "
   ]
  },
  {
   "cell_type": "code",
   "execution_count": null,
   "metadata": {},
   "outputs": [],
   "source": [
    "print(val.shape)\n",
    "val.head()"
   ]
  },
  {
   "cell_type": "code",
   "execution_count": null,
   "metadata": {},
   "outputs": [],
   "source": [
    "sum([1 if n_songs==0 else 0 for n_songs in list(map(lambda x: len(x), val.songs))])"
   ]
  },
  {
   "cell_type": "markdown",
   "metadata": {},
   "source": [
    "#### validation 데이터에서  songs가 비어 있는 playlist는 4379개 (전체 playlist는 23015개)"
   ]
  },
  {
   "cell_type": "markdown",
   "metadata": {},
   "source": [
    "### validation song 예측"
   ]
  },
  {
   "cell_type": "code",
   "execution_count": null,
   "metadata": {},
   "outputs": [],
   "source": [
    "print(\"다른 song과 함께 포함된 횟수 :\", np.array(song_co_occurrence_csr.sum(axis=1))[:10,0])\n",
    "print(\"song 별 총 등장 횟수\", list(map(lambda x : train_song_count[x], range(10)) ))"
   ]
  },
  {
   "cell_type": "code",
   "execution_count": null,
   "metadata": {},
   "outputs": [],
   "source": [
    "# 비어 있는 playlist에 대해서는 등장횟수 상위 100song으로 예측\n",
    "train_songs_co_occurrence_rank = np.array(song_co_occurrence_csr.sum(axis=1))[:,0].argsort()[::-1]\n",
    "train_songs_co_occurrence_rank\n",
    "np.array(song_co_occurrence_csr.sum(axis=1))[train_songs_co_occurrence_rank]"
   ]
  },
  {
   "cell_type": "code",
   "execution_count": null,
   "metadata": {},
   "outputs": [],
   "source": [
    "np.array(song_co_occurrence_csr[:10000, :].max(axis=0).todense())[0,:]"
   ]
  },
  {
   "cell_type": "code",
   "execution_count": null,
   "metadata": {
    "scrolled": false
   },
   "outputs": [],
   "source": [
    "warnings.filterwarnings(action='ignore')\n",
    "song_val_pred = []\n",
    "for i, songs in enumerate(val.songs):\n",
    "    if i > 0 and i % 1000 == 0:\n",
    "        print(i, \"th completed\", sep=\"\")\n",
    "    \n",
    "    if not songs:\n",
    "        song_val_pred += [train_songs_co_occurrence_rank[:100].tolist()]\n",
    "        continue\n",
    "    \n",
    "    song_i_pred = []\n",
    "    song_i_candidate = np.array(song_co_occurrence_csr[songs,:].sum(axis=0))[0,:]\n",
    "    song_i_candidate = song_i_candidate / train_song_count\n",
    "    song_i_candidate[np.isnan(song_i_candidate)] = 0\n",
    "    song_i_candidate = song_i_candidate.argsort()[::-1]\n",
    "    \n",
    "    count = 0\n",
    "    for song in song_i_candidate:\n",
    "        if not song in songs:\n",
    "            song_i_pred += [song]\n",
    "            count += 1\n",
    "            if count == 100: break\n",
    "    if count < 100:\n",
    "        for song in train_songs_co_occurrence_rank:\n",
    "            if not song in songs:\n",
    "                song_i_pred += [song]\n",
    "                count += 1\n",
    "                if count == 100: break\n",
    "    song_val_pred += [song_i_pred]\n",
    "warnings.filterwarnings(action='default')"
   ]
  },
  {
   "cell_type": "code",
   "execution_count": null,
   "metadata": {},
   "outputs": [],
   "source": [
    "print(train_songs_co_occurrence_rank[:100].tolist())"
   ]
  },
  {
   "cell_type": "code",
   "execution_count": null,
   "metadata": {
    "scrolled": true
   },
   "outputs": [],
   "source": [
    "print(song_val_pred[-3])"
   ]
  },
  {
   "cell_type": "markdown",
   "metadata": {},
   "source": [
    "### validation tag 예측"
   ]
  },
  {
   "cell_type": "code",
   "execution_count": null,
   "metadata": {},
   "outputs": [],
   "source": [
    "tag_co_occurrence_csr"
   ]
  },
  {
   "cell_type": "code",
   "execution_count": null,
   "metadata": {},
   "outputs": [],
   "source": [
    "train_tags_co_occurrence_rank = list(map(lambda x: index_tags[x], np.array(tag_co_occurrence_csr.sum(axis=0))[0,:].argsort()[::-1]))\n",
    "print(train_tags_co_occurrence_rank[:10])\n",
    "np.array(tag_co_occurrence_csr.sum(axis=0))[0,:][np.array(tag_co_occurrence_csr.sum(axis=0))[0,:].argsort()[::-1]]"
   ]
  },
  {
   "cell_type": "code",
   "execution_count": null,
   "metadata": {
    "scrolled": true
   },
   "outputs": [],
   "source": [
    "print(index_tags)"
   ]
  },
  {
   "cell_type": "code",
   "execution_count": null,
   "metadata": {},
   "outputs": [],
   "source": [
    "warnings.filterwarnings(action='ignore')\n",
    "tag_val_pred = []\n",
    "tag_top10 = [train_tags_co_occurrence_rank[:10]]\n",
    "for i, songs in enumerate(val.songs):\n",
    "    if i > 0 and i % 1000 == 0:\n",
    "        print(i, \"th completed\", sep=\"\")\n",
    "    \n",
    "    if not songs:\n",
    "        tag_val_pred += tag_top10\n",
    "        continue\n",
    "    \n",
    "    tag_i_pred = []\n",
    "    tag_i_candidate = np.array(tag_co_occurrence_csr[songs,:].sum(axis=0))[0,:]\n",
    "    tag_i_candidate = tag_i_candidate / train_tag_index_count\n",
    "    tag_i_candidate[np.isnan(tag_i_candidate)] = 0\n",
    "    tag_i_candidate = tag_i_candidate.argsort()[::-1]\n",
    "    \n",
    "    tags = val.tags[i]\n",
    "    count = 0\n",
    "    for tag_index in tag_i_candidate:\n",
    "        tag = index_tags[tag_index]\n",
    "        if not tag in tags:\n",
    "            tag_i_pred += [tag]\n",
    "            count += 1\n",
    "            if count == 10: break\n",
    "    \n",
    "\n",
    "    tag_val_pred += [tag_i_pred]\n",
    "warnings.filterwarnings(action='default')"
   ]
  },
  {
   "cell_type": "code",
   "execution_count": null,
   "metadata": {},
   "outputs": [],
   "source": [
    "tag_top10[0]"
   ]
  },
  {
   "cell_type": "code",
   "execution_count": null,
   "metadata": {},
   "outputs": [],
   "source": [
    "tag_val_pred[0]"
   ]
  },
  {
   "cell_type": "code",
   "execution_count": null,
   "metadata": {},
   "outputs": [],
   "source": [
    "val.head()"
   ]
  },
  {
   "cell_type": "code",
   "execution_count": null,
   "metadata": {},
   "outputs": [],
   "source": [
    "song_meta.iloc[val.songs[0], :]"
   ]
  },
  {
   "cell_type": "code",
   "execution_count": null,
   "metadata": {},
   "outputs": [],
   "source": [
    "print(list(song_meta.song_name[song_val_pred[0]]))"
   ]
  },
  {
   "cell_type": "code",
   "execution_count": null,
   "metadata": {},
   "outputs": [],
   "source": [
    "val_result = [{'id':val.id[i], 'songs':song_val_pred[i], 'tags':tag_val_pred[i]} for i in range(val.shape[0])]"
   ]
  },
  {
   "cell_type": "code",
   "execution_count": null,
   "metadata": {},
   "outputs": [],
   "source": [
    "len(val_result)"
   ]
  },
  {
   "cell_type": "code",
   "execution_count": null,
   "metadata": {},
   "outputs": [],
   "source": [
    "val_result = re.sub(\"\\'\", '\\\"', str(val_result))"
   ]
  },
  {
   "cell_type": "code",
   "execution_count": null,
   "metadata": {},
   "outputs": [],
   "source": [
    "with open('results.json', 'w', encoding='utf-8') as f:\n",
    "    f.write(str(val_result))"
   ]
  }
 ],
 "metadata": {
  "kernelspec": {
   "display_name": "Python 3",
   "language": "python",
   "name": "python3"
  },
  "language_info": {
   "codemirror_mode": {
    "name": "ipython",
    "version": 3
   },
   "file_extension": ".py",
   "mimetype": "text/x-python",
   "name": "python",
   "nbconvert_exporter": "python",
   "pygments_lexer": "ipython3",
   "version": "3.8.3"
  }
 },
 "nbformat": 4,
 "nbformat_minor": 4
}
