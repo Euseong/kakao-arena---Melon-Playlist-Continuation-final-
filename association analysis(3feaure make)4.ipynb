{
 "cells": [
  {
   "cell_type": "code",
   "execution_count": 1,
   "metadata": {},
   "outputs": [],
   "source": [
    "import json\n",
    "import os\n",
    "import re\n",
    "import warnings\n",
    "import random\n",
    "\n",
    "import numpy as np\n",
    "import scipy as sp\n",
    "import pandas as pd\n",
    "\n",
    "from numba import jit\n",
    "from collections import Counter\n",
    "from sklearn.feature_extraction.text import TfidfVectorizer\n",
    "from sklearn.feature_extraction.text import CountVectorizer"
   ]
  },
  {
   "cell_type": "code",
   "execution_count": 2,
   "metadata": {},
   "outputs": [],
   "source": [
    "pd.options.mode.chained_assignment = None"
   ]
  },
  {
   "cell_type": "code",
   "execution_count": 2,
   "metadata": {},
   "outputs": [],
   "source": [
    "song_meta = pd.read_json('song_meta.json', typ = 'frame', encoding='utf-8')\n",
    "# train = pd.read_json('train.json', typ = 'frame', encoding='utf-8')"
   ]
  },
  {
   "cell_type": "markdown",
   "metadata": {},
   "source": [
    "# train data로 songs_y, tags_y vs support, confidence, lift 모델 학습"
   ]
  },
  {
   "cell_type": "markdown",
   "metadata": {},
   "source": [
    "- train.songs_X와 train.tags_X의 길이가 0인 경우는 없음"
   ]
  },
  {
   "cell_type": "code",
   "execution_count": null,
   "metadata": {
    "scrolled": true
   },
   "outputs": [],
   "source": [
    "train = pd.read_json('train_labelled.json', typ = 'frame', encoding='CP949')\n",
    "val = pd.read_json('val.json', typ = 'frame', encoding='utf-8')\n",
    "song_co_occurrence_csr = sp.sparse.load_npz(\"all_song_co_occurrence_coo.npz\").tocsr()\n",
    "tag_co_occurrence_csr = sp.sparse.load_npz(\"all_tag_co_occurrence_coo.npz\").tocsr()"
   ]
  },
  {
   "cell_type": "code",
   "execution_count": null,
   "metadata": {},
   "outputs": [],
   "source": [
    "train.head()"
   ]
  },
  {
   "cell_type": "code",
   "execution_count": null,
   "metadata": {},
   "outputs": [],
   "source": [
    "train_song_count = {song:0 for song in range(len(song_meta))}"
   ]
  },
  {
   "cell_type": "code",
   "execution_count": null,
   "metadata": {
    "scrolled": true
   },
   "outputs": [],
   "source": [
    "for songs in train.songs:\n",
    "    for song in songs:\n",
    "        train_song_count[song] += 1"
   ]
  },
  {
   "cell_type": "code",
   "execution_count": null,
   "metadata": {},
   "outputs": [],
   "source": [
    "train_song_count = np.array([train_song_count[i] for i in range(len(song_meta))])"
   ]
  },
  {
   "cell_type": "code",
   "execution_count": null,
   "metadata": {
    "scrolled": true
   },
   "outputs": [],
   "source": [
    "train_confidence_csr = sp.sparse.load_npz(\"all_confidence_coo.npz\").tocsr()\n",
    "train_lift_csr = sp.sparse.load_npz(\"all_lift_coo.npz\").tocsr()\n",
    "tag_train_confidence_csr = sp.sparse.load_npz(\"all_tag_confidence_coo.npz\").tocsr()\n",
    "tag_train_lift_csr = sp.sparse.load_npz(\"all_tag_lift_coo.npz\").tocsr()"
   ]
  },
  {
   "cell_type": "code",
   "execution_count": null,
   "metadata": {},
   "outputs": [],
   "source": [
    "n_train = train.shape[0]"
   ]
  },
  {
   "cell_type": "code",
   "execution_count": null,
   "metadata": {},
   "outputs": [],
   "source": [
    "train_support_csr = song_co_occurrence_csr.astype('float16') / n_train"
   ]
  },
  {
   "cell_type": "code",
   "execution_count": null,
   "metadata": {},
   "outputs": [],
   "source": [
    "tag_train_support_csr = tag_co_occurrence_csr.astype('float16') / n_train"
   ]
  },
  {
   "cell_type": "code",
   "execution_count": null,
   "metadata": {},
   "outputs": [],
   "source": [
    "nonzero_index = train_lift_csr.nonzero()\n",
    "nonzero_lift = train_lift_csr[nonzero_index[0], nonzero_index[1]]\n",
    "nonzero_lift[np.isinf(nonzero_lift)] = nonzero_lift[np.logical_not(np.isinf(nonzero_lift))].max()\n",
    "train_lift_csr[nonzero_index[0], nonzero_index[1]] = nonzero_lift\n",
    "del nonzero_lift, nonzero_index"
   ]
  },
  {
   "cell_type": "code",
   "execution_count": null,
   "metadata": {},
   "outputs": [],
   "source": [
    "nonzero_index = tag_train_lift_csr.nonzero()\n",
    "nonzero_lift = tag_train_lift_csr[nonzero_index[0], nonzero_index[1]]\n",
    "nonzero_lift[np.isinf(nonzero_lift)] = nonzero_lift[np.logical_not(np.isinf(nonzero_lift))].max()\n",
    "tag_train_lift_csr[nonzero_index[0], nonzero_index[1]] = nonzero_lift\n",
    "del nonzero_lift, nonzero_index"
   ]
  },
  {
   "cell_type": "code",
   "execution_count": null,
   "metadata": {},
   "outputs": [],
   "source": [
    "tags_dict = {tag:i for i, tag in enumerate(train.tags.explode().unique())}\n",
    "index_tags= {index:tag for tag, index in tags_dict.items()}"
   ]
  },
  {
   "cell_type": "code",
   "execution_count": 115,
   "metadata": {},
   "outputs": [
    {
     "data": {
      "text/plain": [
       "28767.75"
      ]
     },
     "execution_count": 115,
     "metadata": {},
     "output_type": "execute_result"
    }
   ],
   "source": [
    "n_train/4"
   ]
  },
  {
   "cell_type": "code",
   "execution_count": null,
   "metadata": {
    "scrolled": true
   },
   "outputs": [],
   "source": [
    "warnings.filterwarnings(action='ignore')\n",
    "songs_support, songs_confidence, songs_lift, tags_support, tags_confidence, tags_lift = [], [], [], [], [], []\n",
    "songs_in, tags_in = [], []\n",
    "all_songs = train.songs_X.explode().unique()\n",
    "all_tags = train.tags_X.explode().unique()\n",
    "random.seed(2040)\n",
    "for i in range(75000, 95000):\n",
    "    if i > 999 and i % 1000 == 0:\n",
    "        print(i, \"th completed\", sep=\"\")\n",
    "    songs_X = train.songs_X[i]\n",
    "    songs_y = np.array(train.songs_y[i])\n",
    "    tags_X = train.tags_X[i]\n",
    "    tags_y = np.array(train.tags_y[i])\n",
    "    n_songs = len(songs_X)\n",
    "    n_tags = len(tags_X)\n",
    "    n_songs_y = len(songs_y)\n",
    "    n_tags_y = len(tags_y)\n",
    "    \n",
    "    if n_songs_y > 0:\n",
    "        songs = np.append(songs_X, songs_y)\n",
    "        songs_index = list(songs_y)\n",
    "        n_songs_y = len(songs_index)\n",
    "        songs_index += random.choices(list(all_songs[np.logical_not(np.isin(all_songs, songs))]), k=n_songs_y)\n",
    "\n",
    "        songs_in += [\"in\"]*n_songs_y + [\"not_in\"]*n_songs_y\n",
    "\n",
    "        songs_i_support = np.array(train_support_csr[songs_X,:].sum(axis=0))[0,songs_index]\n",
    "        songs_i_confidence = np.array(train_confidence_csr[songs_X,:].sum(axis=0))[0,songs_index]\n",
    "        songs_i_lift = np.array(train_lift_csr[songs_X,:].sum(axis=0))[0,songs_index]\n",
    "        \n",
    "        songs_support += [songs_i_support]\n",
    "        songs_confidence += [songs_i_confidence]\n",
    "        songs_lift += [songs_i_lift]\n",
    "    \n",
    "    if n_tags_y > 0:\n",
    "        tags = np.append(tags_X, tags_y)\n",
    "        tags_index = list(tags_y)\n",
    "        tags_index += random.choices(list(all_tags[np.logical_not(np.isin(all_tags, tags))]), k=n_tags_y)\n",
    "        tags_index = list(map(lambda x: tags_dict[x], tags_index))\n",
    "        tags_X_index = list(map(lambda x: tags_dict[x], tags_X))\n",
    "\n",
    "        tags_in += [\"in\"]*n_tags_y + [\"not_in\"]*n_tags_y\n",
    "\n",
    "        tags_i_support = np.array(tag_train_support_csr[tags_X_index,:].sum(axis=0))[0,tags_index]\n",
    "        tags_i_confidence = np.array(tag_train_support_csr[tags_X_index,:].sum(axis=0))[0,tags_index]\n",
    "        tags_i_lift = np.array(tag_train_support_csr[tags_X_index,:].sum(axis=0))[0,tags_index]\n",
    "    \n",
    "        tags_support += [tags_i_support]\n",
    "        tags_confidence += [tags_i_confidence]\n",
    "        tags_lift += [tags_i_lift]\n",
    "warnings.filterwarnings(action='default')"
   ]
  },
  {
   "cell_type": "code",
   "execution_count": 103,
   "metadata": {},
   "outputs": [
    {
     "data": {
      "text/plain": [
       "([array([0.00013035, 0.00013035, 0.00013035, 0.00013035, 0.        ,\n",
       "         0.        , 0.        , 0.        ]),\n",
       "  array([3.21540614e-04, 2.95469753e-04, 1.41651676e-03, 1.30354303e-03,\n",
       "         1.59032250e-03, 1.54687106e-03, 1.72936709e-03, 1.14711787e-03,\n",
       "         8.69028687e-06, 0.00000000e+00, 8.69028687e-06, 0.00000000e+00,\n",
       "         0.00000000e+00, 1.73805737e-05, 0.00000000e+00, 0.00000000e+00]),\n",
       "  array([2.78089180e-04, 2.43328032e-04, 3.04160040e-04, 4.08443483e-04,\n",
       "         3.12850327e-04, 2.95469753e-04, 0.00000000e+00, 0.00000000e+00,\n",
       "         0.00000000e+00, 0.00000000e+00, 8.69028687e-06, 0.00000000e+00]),\n",
       "  array([6.95222949e-04, 5.38797786e-04, 4.95346351e-04, 5.47488073e-04,\n",
       "         5.64868646e-04, 3.56301762e-04, 1.53818078e-03, 2.10304942e-03,\n",
       "         0.00000000e+00, 0.00000000e+00, 0.00000000e+00, 0.00000000e+00,\n",
       "         0.00000000e+00, 0.00000000e+00, 0.00000000e+00, 2.60708606e-05]),\n",
       "  array([1.14103467e-02, 3.91931938e-03, 7.57793015e-03, 5.80511163e-03,\n",
       "         1.37741047e-02, 2.42459004e-03, 4.78834806e-03, 6.16141339e-03,\n",
       "         1.07498849e-02, 1.21664016e-03, 3.36314102e-03, 0.00000000e+00,\n",
       "         0.00000000e+00, 0.00000000e+00, 0.00000000e+00, 0.00000000e+00,\n",
       "         8.69028687e-06, 0.00000000e+00, 0.00000000e+00, 0.00000000e+00,\n",
       "         0.00000000e+00, 0.00000000e+00]),\n",
       "  array([0.00033023, 0.00020857, 0.00021726, 0.01078465, 0.00022595,\n",
       "         0.00068653, 0.        , 0.        , 0.        , 0.        ,\n",
       "         0.        , 0.        ]),\n",
       "  array([5.20548183e-03, 1.56425164e-03, 4.05836397e-03, 5.38797786e-04,\n",
       "         3.04160040e-04, 4.57978118e-03, 1.11930895e-02, 3.86717766e-03,\n",
       "         0.00000000e+00, 0.00000000e+00, 0.00000000e+00, 0.00000000e+00,\n",
       "         0.00000000e+00, 0.00000000e+00, 1.73805737e-05, 0.00000000e+00]),\n",
       "  array([0.00019119, 0.00021726, 0.0001825 , 0.00016512, 0.        ,\n",
       "         0.        , 0.        , 0.        ]),\n",
       "  array([3.91062909e-04, 2.78089180e-04, 5.30107499e-04, 2.78089180e-04,\n",
       "         2.78089180e-04, 2.78089180e-04, 4.77965778e-04, 3.38921188e-04,\n",
       "         0.00000000e+00, 0.00000000e+00, 0.00000000e+00, 0.00000000e+00,\n",
       "         0.00000000e+00, 0.00000000e+00, 0.00000000e+00, 8.69028687e-06]),\n",
       "  array([0.0001825 , 0.00010428, 0.00010428, 0.        , 0.        ,\n",
       "         0.        ])],\n",
       " [array([5.766754, 5.766754, 5.766754, 5.766754, 0.      , 0.      ,\n",
       "         0.      , 0.      ], dtype=float32),\n",
       "  array([3.5921373e+00, 3.2464190e+00, 8.2299795e+00, 7.5756025e+00,\n",
       "         8.8708944e+00, 8.6857624e+00, 5.8088875e+00, 6.9718528e+00,\n",
       "         8.2626343e-03, 0.0000000e+00, 8.0966949e-04, 0.0000000e+00,\n",
       "         0.0000000e+00, 1.6121864e-03, 0.0000000e+00, 0.0000000e+00],\n",
       "        dtype=float32),\n",
       "  array([0.87122536, 0.8451233 , 0.840147  , 0.98646927, 0.79746056,\n",
       "         0.8453388 , 0.        , 0.        , 0.        , 0.        ,\n",
       "         0.0333252 , 0.        ], dtype=float32),\n",
       "  array([1.0710526 , 1.0380392 , 0.99671936, 1.048934  , 1.0316734 ,\n",
       "         0.95353985, 1.3772335 , 1.4732285 , 0.        , 0.        ,\n",
       "         0.        , 0.        , 0.        , 0.        , 0.        ,\n",
       "         0.01826096], dtype=float32),\n",
       "  array([6.6560974e+00, 3.1786537e+00, 5.1181641e+00, 3.7294083e+00,\n",
       "         8.2642517e+00, 1.9715176e+00, 3.1580887e+00, 3.7715607e+00,\n",
       "         6.3624878e+00, 1.2726898e+00, 2.5237923e+00, 0.0000000e+00,\n",
       "         0.0000000e+00, 0.0000000e+00, 0.0000000e+00, 0.0000000e+00,\n",
       "         3.4847260e-03, 0.0000000e+00, 0.0000000e+00, 0.0000000e+00,\n",
       "         0.0000000e+00, 0.0000000e+00], dtype=float32),\n",
       "  array([1.6842518, 1.6272345, 1.6295824, 4.7904053, 1.6352453, 2.1223984,\n",
       "         0.       , 0.       , 0.       , 0.       , 0.       , 0.       ],\n",
       "        dtype=float32),\n",
       "  array([1.6679153 , 0.59540653, 1.3255959 , 0.44231272, 0.39456916,\n",
       "         1.365593  , 2.366333  , 1.0904274 , 0.        , 0.        ,\n",
       "         0.        , 0.        , 0.        , 0.        , 0.00427628,\n",
       "         0.        ], dtype=float32),\n",
       "  array([0.39272118, 0.4181261 , 0.4488411 , 0.37463188, 0.        ,\n",
       "         0.        , 0.        , 0.        ], dtype=float32),\n",
       "  array([7.6337099e+00, 6.9039993e+00, 7.0003777e+00, 6.9039993e+00,\n",
       "         6.9039993e+00, 6.9039993e+00, 6.9760818e+00, 8.0573273e+00,\n",
       "         0.0000000e+00, 0.0000000e+00, 0.0000000e+00, 0.0000000e+00,\n",
       "         0.0000000e+00, 0.0000000e+00, 0.0000000e+00, 1.4047623e-03],\n",
       "        dtype=float32),\n",
       "  array([7.187134 , 6.7342224, 6.7342224, 0.       , 0.       , 0.       ],\n",
       "        dtype=float32)],\n",
       " [array([ 12998.781, 329889.   , 436546.   , 286031.5  ,      0.   ,\n",
       "              0.   ,      0.   ,      0.   ], dtype=float32),\n",
       "  array([5.9421938e+04, 6.9025922e+04, 4.8993039e+04, 3.7578258e+04,\n",
       "         4.8901109e+04, 2.8103365e+04, 3.0549453e+03, 1.1789556e+04,\n",
       "         6.1500000e+02, 0.0000000e+00, 3.0125000e+01, 0.0000000e+00,\n",
       "         0.0000000e+00, 1.8453125e+01, 0.0000000e+00, 0.0000000e+00],\n",
       "        dtype=float32),\n",
       "  array([6483.172 , 7398.7344, 1000.2578, 1019.5117, 2011.6562, 2466.8828,\n",
       "            0.    ,    0.    ,    0.    ,    0.    , 1653.    ,    0.    ],\n",
       "        dtype=float32),\n",
       "  array([ 675.3994  , 1643.374   ,  674.3086  , 1369.291   ,  908.459   ,\n",
       "         7469.383   ,  155.17957 , 1238.7363  ,    0.      ,    0.      ,\n",
       "            0.      ,    0.      ,    0.      ,    0.      ,    0.      ,\n",
       "           31.603516], dtype=float32),\n",
       "  array([4586.3594, 5988.086 , 2329.3828, 4370.328 , 3772.9062, 5433.633 ,\n",
       "         4086.7344, 3282.461 , 4134.8125, 7575.7812, 5365.914 ,    0.    ,\n",
       "            0.    ,    0.    ,    0.    ,    0.    ,  259.25  ,    0.    ,\n",
       "            0.    ,    0.    ,    0.    ,    0.    ], dtype=float32),\n",
       "  array([  6774.324  , 192557.75   , 121285.625  ,    496.77344,\n",
       "          60853.5    ,   4327.422  ,      0.     ,      0.     ,\n",
       "              0.     ,      0.     ,      0.     ,      0.     ],\n",
       "        dtype=float32),\n",
       "  array([ 719.4961 ,  611.05176,  888.7637 , 2057.0742 , 6525.4336 ,\n",
       "          486.208  ,  358.27246,  453.29102,    0.     ,    0.     ,\n",
       "            0.     ,    0.     ,    0.     ,    0.     ,   79.5625 ,\n",
       "            0.     ], dtype=float32),\n",
       "  array([2087.3438, 1595.6719, 2227.0625, 2424.5156,    0.    ,    0.    ,\n",
       "            0.    ,    0.    ], dtype=float32),\n",
       "  array([1.2482016e+04, 9.3399023e+04, 1.0317570e+04, 2.5692670e+05,\n",
       "         6.8025081e+05, 4.3935741e+05, 8.1127793e+03, 1.1990151e+05,\n",
       "         0.0000000e+00, 0.0000000e+00, 0.0000000e+00, 0.0000000e+00,\n",
       "         0.0000000e+00, 0.0000000e+00, 0.0000000e+00, 4.1812500e+01],\n",
       "        dtype=float32),\n",
       "  array([ 97230., 456484., 456484.,      0.,      0.,      0.],\n",
       "        dtype=float32)],\n",
       " [array([0., 0., 0., 0.]),\n",
       "  array([0., 0., 0., 0.]),\n",
       "  array([0., 0.]),\n",
       "  array([0., 0.]),\n",
       "  array([1.73805737e-05, 0.00000000e+00]),\n",
       "  array([8.69028687e-06, 0.00000000e+00]),\n",
       "  array([0., 0.]),\n",
       "  array([0., 0., 0., 0.]),\n",
       "  array([8.69028687e-06, 0.00000000e+00]),\n",
       "  array([1.73805737e-05, 0.00000000e+00, 8.69028687e-06, 0.00000000e+00])],\n",
       " [array([0., 0., 0., 0.]),\n",
       "  array([0., 0., 0., 0.]),\n",
       "  array([0., 0.]),\n",
       "  array([0., 0.]),\n",
       "  array([1.73805737e-05, 0.00000000e+00]),\n",
       "  array([8.69028687e-06, 0.00000000e+00]),\n",
       "  array([0., 0.]),\n",
       "  array([0., 0., 0., 0.]),\n",
       "  array([8.69028687e-06, 0.00000000e+00]),\n",
       "  array([1.73805737e-05, 0.00000000e+00, 8.69028687e-06, 0.00000000e+00])],\n",
       " [array([0., 0., 0., 0.]),\n",
       "  array([0., 0., 0., 0.]),\n",
       "  array([0., 0.]),\n",
       "  array([0., 0.]),\n",
       "  array([1.73805737e-05, 0.00000000e+00]),\n",
       "  array([8.69028687e-06, 0.00000000e+00]),\n",
       "  array([0., 0.]),\n",
       "  array([0., 0., 0., 0.]),\n",
       "  array([8.69028687e-06, 0.00000000e+00]),\n",
       "  array([1.73805737e-05, 0.00000000e+00, 8.69028687e-06, 0.00000000e+00])])"
      ]
     },
     "execution_count": 103,
     "metadata": {},
     "output_type": "execute_result"
    }
   ],
   "source": [
    "songs_support[:10], songs_confidence[:10], songs_lift[:10], tags_support[:10], tags_confidence[:10], tags_lift[:10]"
   ]
  },
  {
   "cell_type": "code",
   "execution_count": 104,
   "metadata": {},
   "outputs": [
    {
     "name": "stdout",
     "output_type": "stream",
     "text": [
      "757 1514\n",
      "73 146\n"
     ]
    }
   ],
   "source": [
    "print(sum(np.array(songs_in) == 'in'), len(songs_in))\n",
    "print(sum(np.array(tags_in) == 'in'), len(tags_in))"
   ]
  },
  {
   "cell_type": "code",
   "execution_count": null,
   "metadata": {},
   "outputs": [],
   "source": [
    "AA_features = pd.DataFrame({s_support:songs_support, s_confidence:songs_confidence, s_lift:songs_lift,\n",
    "                            t_support:tags_support, t_confidence:tags_confidence, t_lift:tags_lift,\n",
    "                            s_in:songs_in, t_in:tags_in})\n",
    "pd.to_json(\"AA_features1.json\", orient=\"records\", force_ascii=False)"
   ]
  },
  {
   "cell_type": "markdown",
   "metadata": {},
   "source": [
    "# validation 데이터 예측"
   ]
  },
  {
   "cell_type": "code",
   "execution_count": null,
   "metadata": {},
   "outputs": [],
   "source": [
    "val = pd.read_json('val.json', typ = 'frame', encoding='utf-8')"
   ]
  },
  {
   "cell_type": "code",
   "execution_count": null,
   "metadata": {},
   "outputs": [],
   "source": [
    "print(val.shape)\n",
    "val.head()"
   ]
  },
  {
   "cell_type": "code",
   "execution_count": null,
   "metadata": {},
   "outputs": [],
   "source": [
    "sum([1 if n_songs==0 else 0 for n_songs in list(map(lambda x: len(x), val.songs))])"
   ]
  },
  {
   "cell_type": "markdown",
   "metadata": {},
   "source": [
    "#### validation 데이터에서  songs가 비어 있는 playlist는 4379개 (전체 playlist는 23015개)"
   ]
  },
  {
   "cell_type": "markdown",
   "metadata": {},
   "source": [
    "### validation song 예측"
   ]
  },
  {
   "cell_type": "code",
   "execution_count": null,
   "metadata": {},
   "outputs": [],
   "source": [
    "print(\"다른 song과 함께 포함된 횟수 :\", np.array(song_co_occurrence_csr.sum(axis=1))[:10,0])\n",
    "print(\"song 별 총 등장 횟수\", list(map(lambda x : train_song_count[x], range(10)) ))"
   ]
  },
  {
   "cell_type": "code",
   "execution_count": null,
   "metadata": {},
   "outputs": [],
   "source": [
    "np.array(song_co_occurrence_csr[:10000, :].max(axis=0).todense())[0,:]"
   ]
  },
  {
   "cell_type": "code",
   "execution_count": null,
   "metadata": {
    "scrolled": false
   },
   "outputs": [],
   "source": [
    "warnings.filterwarnings(action='ignore')\n",
    "song_val_pred = []\n",
    "for i, songs in enumerate(val.songs):\n",
    "    if i > 0 and i % 1000 == 0:\n",
    "        print(i, \"th completed\", sep=\"\")\n",
    "    \n",
    "    if not songs:\n",
    "        song_val_pred += [train_songs_co_occurrence_rank[:100].tolist()]\n",
    "        continue\n",
    "    \n",
    "    song_i_pred = []\n",
    "    song_i_candidate = np.array(song_co_occurrence_csr[songs,:].sum(axis=0))[0,:]\n",
    "    song_i_candidate = song_i_candidate / train_song_count\n",
    "    song_i_candidate[np.isnan(song_i_candidate)] = 0\n",
    "    song_i_candidate = song_i_candidate.argsort()[::-1]\n",
    "    \n",
    "    count = 0\n",
    "    for song in song_i_candidate:\n",
    "        if not song in songs:\n",
    "            song_i_pred += [song]\n",
    "            count += 1\n",
    "            if count == 100: break\n",
    "    if count < 100:\n",
    "        for song in train_songs_co_occurrence_rank:\n",
    "            if not song in songs:\n",
    "                song_i_pred += [song]\n",
    "                count += 1\n",
    "                if count == 100: break\n",
    "    song_val_pred += [song_i_pred]\n",
    "warnings.filterwarnings(action='default')"
   ]
  },
  {
   "cell_type": "code",
   "execution_count": null,
   "metadata": {},
   "outputs": [],
   "source": [
    "print(train_songs_co_occurrence_rank[:100].tolist())"
   ]
  },
  {
   "cell_type": "code",
   "execution_count": null,
   "metadata": {
    "scrolled": true
   },
   "outputs": [],
   "source": [
    "print(song_val_pred[-3])"
   ]
  },
  {
   "cell_type": "markdown",
   "metadata": {},
   "source": [
    "### validation tag 예측"
   ]
  },
  {
   "cell_type": "code",
   "execution_count": null,
   "metadata": {},
   "outputs": [],
   "source": [
    "tag_co_occurrence_csr"
   ]
  },
  {
   "cell_type": "code",
   "execution_count": null,
   "metadata": {
    "scrolled": true
   },
   "outputs": [],
   "source": [
    "print(index_tags)"
   ]
  },
  {
   "cell_type": "code",
   "execution_count": null,
   "metadata": {},
   "outputs": [],
   "source": [
    "warnings.filterwarnings(action='ignore')\n",
    "tag_val_pred = []\n",
    "tag_top10 = [train_tags_co_occurrence_rank[:10]]\n",
    "for i, songs in enumerate(val.songs):\n",
    "    if i > 0 and i % 1000 == 0:\n",
    "        print(i, \"th completed\", sep=\"\")\n",
    "    \n",
    "    if not songs:\n",
    "        tag_val_pred += tag_top10\n",
    "        continue\n",
    "    \n",
    "    tag_i_pred = []\n",
    "    tag_i_candidate = np.array(tag_co_occurrence_csr[songs,:].sum(axis=0))[0,:]\n",
    "    tag_i_candidate = tag_i_candidate / train_tag_index_count\n",
    "    tag_i_candidate[np.isnan(tag_i_candidate)] = 0\n",
    "    tag_i_candidate = tag_i_candidate.argsort()[::-1]\n",
    "    \n",
    "    tags = val.tags[i]\n",
    "    count = 0\n",
    "    for tag_index in tag_i_candidate:\n",
    "        tag = index_tags[tag_index]\n",
    "        if not tag in tags:\n",
    "            tag_i_pred += [tag]\n",
    "            count += 1\n",
    "            if count == 10: break\n",
    "    \n",
    "\n",
    "    tag_val_pred += [tag_i_pred]\n",
    "warnings.filterwarnings(action='default')"
   ]
  },
  {
   "cell_type": "code",
   "execution_count": null,
   "metadata": {},
   "outputs": [],
   "source": [
    "tag_top10[0]"
   ]
  },
  {
   "cell_type": "code",
   "execution_count": null,
   "metadata": {},
   "outputs": [],
   "source": [
    "tag_val_pred[0]"
   ]
  },
  {
   "cell_type": "code",
   "execution_count": null,
   "metadata": {},
   "outputs": [],
   "source": [
    "val.head()"
   ]
  },
  {
   "cell_type": "code",
   "execution_count": null,
   "metadata": {},
   "outputs": [],
   "source": [
    "song_meta.iloc[val.songs[0], :]"
   ]
  },
  {
   "cell_type": "code",
   "execution_count": null,
   "metadata": {},
   "outputs": [],
   "source": [
    "print(list(song_meta.song_name[song_val_pred[0]]))"
   ]
  },
  {
   "cell_type": "code",
   "execution_count": null,
   "metadata": {},
   "outputs": [],
   "source": [
    "val_result = [{'id':val.id[i], 'songs':song_val_pred[i], 'tags':tag_val_pred[i]} for i in range(val.shape[0])]"
   ]
  },
  {
   "cell_type": "code",
   "execution_count": null,
   "metadata": {},
   "outputs": [],
   "source": [
    "len(val_result)"
   ]
  },
  {
   "cell_type": "code",
   "execution_count": null,
   "metadata": {},
   "outputs": [],
   "source": [
    "val_result = re.sub(\"\\'\", '\\\"', str(val_result))"
   ]
  },
  {
   "cell_type": "code",
   "execution_count": null,
   "metadata": {},
   "outputs": [],
   "source": [
    "with open('results.json', 'w', encoding='utf-8') as f:\n",
    "    f.write(str(val_result))"
   ]
  }
 ],
 "metadata": {
  "kernelspec": {
   "display_name": "Python 3",
   "language": "python",
   "name": "python3"
  },
  "language_info": {
   "codemirror_mode": {
    "name": "ipython",
    "version": 3
   },
   "file_extension": ".py",
   "mimetype": "text/x-python",
   "name": "python",
   "nbconvert_exporter": "python",
   "pygments_lexer": "ipython3",
   "version": "3.8.3"
  }
 },
 "nbformat": 4,
 "nbformat_minor": 4
}
